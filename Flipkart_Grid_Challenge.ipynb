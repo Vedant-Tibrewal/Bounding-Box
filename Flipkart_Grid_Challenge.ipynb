{
  "nbformat": 4,
  "nbformat_minor": 0,
  "metadata": {
    "colab": {
      "name": "Untitled1.ipynb",
      "version": "0.3.2",
      "provenance": [],
      "collapsed_sections": []
    },
    "kernelspec": {
      "name": "python3",
      "display_name": "Python 3"
    },
    "accelerator": "GPU"
  },
  "cells": [
    {
      "metadata": {
        "id": "ut5d9Et75xRt",
        "colab_type": "code",
        "outputId": "5d6d1a57-24b8-4e78-91e3-02bd0138028c",
        "colab": {
          "base_uri": "https://localhost:8080/",
          "height": 138
        }
      },
      "cell_type": "code",
      "source": [
        "import keras\n",
        "from keras.datasets import mnist\n",
        "from keras.models import Sequential\n",
        "from keras.layers import Dense, Dropout, Flatten\n",
        "from keras.layers import Conv2D, MaxPooling2D\n",
        "import pandas as pd\n",
        "import numpy as np\n",
        "import matplotlib.pyplot as plt\n",
        "import matplotlib.image as mpimg\n",
        "import matplotlib.cm as cm\n",
        "%matplotlib inline\n",
        "from matplotlib import patches\n",
        "from google.colab import drive\n",
        "drive.mount('/content/gdrive')"
      ],
      "execution_count": 1,
      "outputs": [
        {
          "output_type": "stream",
          "text": [
            "Using TensorFlow backend.\n"
          ],
          "name": "stderr"
        },
        {
          "output_type": "stream",
          "text": [
            "Go to this URL in a browser: https://accounts.google.com/o/oauth2/auth?client_id=947318989803-6bn6qk8qdgf4n4g3pfee6491hc0brc4i.apps.googleusercontent.com&redirect_uri=urn%3Aietf%3Awg%3Aoauth%3A2.0%3Aoob&scope=email%20https%3A%2F%2Fwww.googleapis.com%2Fauth%2Fdocs.test%20https%3A%2F%2Fwww.googleapis.com%2Fauth%2Fdrive%20https%3A%2F%2Fwww.googleapis.com%2Fauth%2Fdrive.photos.readonly%20https%3A%2F%2Fwww.googleapis.com%2Fauth%2Fpeopleapi.readonly&response_type=code\n",
            "\n",
            "Enter your authorization code:\n",
            "··········\n",
            "Mounted at /content/gdrive\n"
          ],
          "name": "stdout"
        }
      ]
    },
    {
      "metadata": {
        "id": "7duD5Y0xBubW",
        "colab_type": "code",
        "outputId": "9f1c30b5-3182-41f4-d959-7297ccb7e6a7",
        "colab": {
          "base_uri": "https://localhost:8080/",
          "height": 34
        }
      },
      "cell_type": "code",
      "source": [
        "# read the csv file using read_csv function of pandas\n",
        "train = pd.read_csv('gdrive/My Drive/Colab Notebooks/training_set.csv')\n",
        "train.size\n"
      ],
      "execution_count": 2,
      "outputs": [
        {
          "output_type": "execute_result",
          "data": {
            "text/plain": [
              "120000"
            ]
          },
          "metadata": {
            "tags": []
          },
          "execution_count": 2
        }
      ]
    },
    {
      "metadata": {
        "id": "_Y6O4wqWL-x0",
        "colab_type": "code",
        "colab": {}
      },
      "cell_type": "code",
      "source": [
        "dataset_csv = pd.read_csv('gdrive/My Drive/Colab Notebooks/training_set.csv',index_col=None)\n",
        "dataset = dataset_csv[['image_name','x1','x2','y1','y2']]"
      ],
      "execution_count": 0,
      "outputs": []
    },
    {
      "metadata": {
        "id": "NaVTAEqUqY2T",
        "colab_type": "code",
        "outputId": "c1be759e-d4c4-4eb5-c21e-f9ad8755cd86",
        "colab": {
          "base_uri": "https://localhost:8080/",
          "height": 472
        }
      },
      "cell_type": "code",
      "source": [
        "x_train_array = []\n",
        "y_train_array = []\n",
        "for i in range(0,24000):\n",
        "  img = mpimg.imread('gdrive/My Drive/Colab Notebooks/resize160120/'+str(x_train[i][0]))\n",
        "  print(i)\n",
        "  gray = rgb2gray(img)    \n",
        "  x_train_array.append(gray)\n",
        "  y_train_array.append(y_train[i])\n",
        "print(np.array(y_train_array))\n",
        "x_train_array = np.array(x_train_array)\n",
        "y_train_array = np.array(y_train_array)"
      ],
      "execution_count": 0,
      "outputs": [
        {
          "output_type": "error",
          "ename": "KeyboardInterrupt",
          "evalue": "ignored",
          "traceback": [
            "\u001b[0;31m---------------------------------------------------------------------------\u001b[0m",
            "\u001b[0;31mOSError\u001b[0m                                   Traceback (most recent call last)",
            "\u001b[0;32m/usr/local/lib/python3.6/dist-packages/IPython/core/interactiveshell.py\u001b[0m in \u001b[0;36mrun_code\u001b[0;34m(self, code_obj, result)\u001b[0m\n\u001b[1;32m   2881\u001b[0m                 \u001b[0;31m#rprint('Running code', repr(code_obj)) # dbg\u001b[0m\u001b[0;34m\u001b[0m\u001b[0;34m\u001b[0m\u001b[0;34m\u001b[0m\u001b[0m\n\u001b[0;32m-> 2882\u001b[0;31m                 \u001b[0mexec\u001b[0m\u001b[0;34m(\u001b[0m\u001b[0mcode_obj\u001b[0m\u001b[0;34m,\u001b[0m \u001b[0mself\u001b[0m\u001b[0;34m.\u001b[0m\u001b[0muser_global_ns\u001b[0m\u001b[0;34m,\u001b[0m \u001b[0mself\u001b[0m\u001b[0;34m.\u001b[0m\u001b[0muser_ns\u001b[0m\u001b[0;34m)\u001b[0m\u001b[0;34m\u001b[0m\u001b[0;34m\u001b[0m\u001b[0m\n\u001b[0m\u001b[1;32m   2883\u001b[0m             \u001b[0;32mfinally\u001b[0m\u001b[0;34m:\u001b[0m\u001b[0;34m\u001b[0m\u001b[0;34m\u001b[0m\u001b[0m\n",
            "\u001b[0;32m<ipython-input-8-aa88716229d9>\u001b[0m in \u001b[0;36m<module>\u001b[0;34m()\u001b[0m\n\u001b[1;32m      3\u001b[0m \u001b[0;32mfor\u001b[0m \u001b[0mi\u001b[0m \u001b[0;32min\u001b[0m \u001b[0mrange\u001b[0m\u001b[0;34m(\u001b[0m\u001b[0;36m0\u001b[0m\u001b[0;34m,\u001b[0m\u001b[0;36m24000\u001b[0m\u001b[0;34m)\u001b[0m\u001b[0;34m:\u001b[0m\u001b[0;34m\u001b[0m\u001b[0;34m\u001b[0m\u001b[0m\n\u001b[0;32m----> 4\u001b[0;31m   \u001b[0mimg\u001b[0m \u001b[0;34m=\u001b[0m \u001b[0mmpimg\u001b[0m\u001b[0;34m.\u001b[0m\u001b[0mimread\u001b[0m\u001b[0;34m(\u001b[0m\u001b[0;34m'gdrive/My Drive/Colab Notebooks/resize160120/'\u001b[0m\u001b[0;34m+\u001b[0m\u001b[0mstr\u001b[0m\u001b[0;34m(\u001b[0m\u001b[0mx_train\u001b[0m\u001b[0;34m[\u001b[0m\u001b[0mi\u001b[0m\u001b[0;34m]\u001b[0m\u001b[0;34m[\u001b[0m\u001b[0;36m0\u001b[0m\u001b[0;34m]\u001b[0m\u001b[0;34m)\u001b[0m\u001b[0;34m)\u001b[0m\u001b[0;34m\u001b[0m\u001b[0;34m\u001b[0m\u001b[0m\n\u001b[0m\u001b[1;32m      5\u001b[0m   \u001b[0mprint\u001b[0m\u001b[0;34m(\u001b[0m\u001b[0mi\u001b[0m\u001b[0;34m)\u001b[0m\u001b[0;34m\u001b[0m\u001b[0;34m\u001b[0m\u001b[0m\n",
            "\u001b[0;32m/usr/local/lib/python3.6/dist-packages/matplotlib/image.py\u001b[0m in \u001b[0;36mimread\u001b[0;34m(fname, format)\u001b[0m\n\u001b[1;32m   1373\u001b[0m         \u001b[0;32melse\u001b[0m\u001b[0;34m:\u001b[0m\u001b[0;34m\u001b[0m\u001b[0;34m\u001b[0m\u001b[0m\n\u001b[0;32m-> 1374\u001b[0;31m             \u001b[0;32mwith\u001b[0m \u001b[0mopen\u001b[0m\u001b[0;34m(\u001b[0m\u001b[0mfname\u001b[0m\u001b[0;34m,\u001b[0m \u001b[0;34m'rb'\u001b[0m\u001b[0;34m)\u001b[0m \u001b[0;32mas\u001b[0m \u001b[0mfd\u001b[0m\u001b[0;34m:\u001b[0m\u001b[0;34m\u001b[0m\u001b[0;34m\u001b[0m\u001b[0m\n\u001b[0m\u001b[1;32m   1375\u001b[0m                 \u001b[0;32mreturn\u001b[0m \u001b[0mhandler\u001b[0m\u001b[0;34m(\u001b[0m\u001b[0mfd\u001b[0m\u001b[0;34m)\u001b[0m\u001b[0;34m\u001b[0m\u001b[0;34m\u001b[0m\u001b[0m\n",
            "\u001b[0;31mOSError\u001b[0m: [Errno 5] Input/output error: 'gdrive/My Drive/Colab Notebooks/resize160120/JPEG_20160517_140621_1000651031832.png'",
            "\nDuring handling of the above exception, another exception occurred:\n",
            "\u001b[0;31mKeyboardInterrupt\u001b[0m                         Traceback (most recent call last)",
            "\u001b[0;31mKeyboardInterrupt\u001b[0m: "
          ]
        }
      ]
    },
    {
      "metadata": {
        "id": "qipdXzrQPPLh",
        "colab_type": "code",
        "colab": {
          "base_uri": "https://localhost:8080/",
          "height": 128
        },
        "outputId": "27cf003d-1c34-4cd3-ce6d-39475c1f7632"
      },
      "cell_type": "code",
      "source": [
        "x_train = dataset[['image_name']]\n",
        "x_train = np.asarray(x_train)\n",
        "y_train = dataset[['x1','x2','y1','y2']]\n",
        "y_train = np.asarray(y_train]"
      ],
      "execution_count": 4,
      "outputs": [
        {
          "output_type": "error",
          "ename": "SyntaxError",
          "evalue": "ignored",
          "traceback": [
            "\u001b[0;36m  File \u001b[0;32m\"<ipython-input-4-9a63177d233d>\"\u001b[0;36m, line \u001b[0;32m4\u001b[0m\n\u001b[0;31m    y_train = np.asarray(y_train]\u001b[0m\n\u001b[0m                                ^\u001b[0m\n\u001b[0;31mSyntaxError\u001b[0m\u001b[0;31m:\u001b[0m invalid syntax\n"
          ]
        }
      ]
    },
    {
      "metadata": {
        "id": "9vX3o8IARYdK",
        "colab_type": "code",
        "outputId": "cebd02e5-73b6-4b52-c6cc-291b8270fb5a",
        "colab": {
          "base_uri": "https://localhost:8080/",
          "height": 162
        }
      },
      "cell_type": "code",
      "source": [
        "print(x_train[86:89])"
      ],
      "execution_count": 5,
      "outputs": [
        {
          "output_type": "error",
          "ename": "NameError",
          "evalue": "ignored",
          "traceback": [
            "\u001b[0;31m---------------------------------------------------------------------------\u001b[0m",
            "\u001b[0;31mNameError\u001b[0m                                 Traceback (most recent call last)",
            "\u001b[0;32m<ipython-input-5-2fa072f8a85d>\u001b[0m in \u001b[0;36m<module>\u001b[0;34m()\u001b[0m\n\u001b[0;32m----> 1\u001b[0;31m \u001b[0mprint\u001b[0m\u001b[0;34m(\u001b[0m\u001b[0mx_train\u001b[0m\u001b[0;34m[\u001b[0m\u001b[0;36m86\u001b[0m\u001b[0;34m:\u001b[0m\u001b[0;36m89\u001b[0m\u001b[0;34m]\u001b[0m\u001b[0;34m)\u001b[0m\u001b[0;34m\u001b[0m\u001b[0;34m\u001b[0m\u001b[0m\n\u001b[0m",
            "\u001b[0;31mNameError\u001b[0m: name 'x_train' is not defined"
          ]
        }
      ]
    },
    {
      "metadata": {
        "id": "MbkP9G3_oBaT",
        "colab_type": "code",
        "colab": {}
      },
      "cell_type": "code",
      "source": [
        "https://www.kaggle.com/nvhbk16k53/simple-rnn-with-keras"
      ],
      "execution_count": 0,
      "outputs": []
    },
    {
      "metadata": {
        "id": "z3EMbjWnSdiz",
        "colab_type": "code",
        "outputId": "c502efa0-98a4-4f3a-b76b-d04462acb2a7",
        "colab": {
          "base_uri": "https://localhost:8080/",
          "height": 34
        }
      },
      "cell_type": "code",
      "source": [
        "\n",
        "x_train_array = np.load('gdrive/My Drive/Colab Notebooks/Numpy/x_train_array.npy')\n",
        "y_train_array = np.load('gdrive/My Drive/Colab Notebooks/Numpy/y_train_array.npy')\n",
        "#Model training\n",
        "print(len(x_train_array))\n",
        "x_train_array = x_train_array.reshape(x_train_array.shape[0],48,64,1)\n"
      ],
      "execution_count": 6,
      "outputs": [
        {
          "output_type": "stream",
          "text": [
            "24000\n"
          ],
          "name": "stdout"
        }
      ]
    },
    {
      "metadata": {
        "id": "Np0FsfquZkA2",
        "colab_type": "code",
        "colab": {}
      },
      "cell_type": "code",
      "source": [
        "x_retrain_array = np.load('gdrive/My Drive/Colab Notebooks/Numpy/x_train_array_retrain.npy')\n",
        "y_retrain_array = np.load('gdrive/My Drive/Colab Notebooks/Numpy/y_train_array_retrain.npy')\n",
        "#Model training\n",
        "print(len(x_retrain_array))\n",
        "x_retrain_array = x_retrain_array.reshape(x_retrain_array.shape[0],48,64,1)"
      ],
      "execution_count": 0,
      "outputs": []
    },
    {
      "metadata": {
        "id": "_JMMh7SAO8ml",
        "colab_type": "code",
        "outputId": "f53435bb-dd67-4182-d0f2-ba6fff56141a",
        "colab": {
          "base_uri": "https://localhost:8080/",
          "height": 2298
        }
      },
      "cell_type": "code",
      "source": [
        "#Model training\n",
        "\n",
        "#Model training\n",
        "model = Sequential()\n",
        "\n",
        "model.add(Conv2D(128, kernel_size=(2,2), activation = 'relu', input_shape = (32,32,1)))\n",
        "model.add(Conv2D(256, (2,2), activation = 'relu'))\n",
        "model.add(MaxPooling2D(pool_size=(2,2)))\n",
        "model.add(Conv2D(512, (2,2), activation = 'relu'))\n",
        "#model.add(MaxPooling2D(pool_size=(2,2)))\n",
        "#model.add(Conv2D(256, (2,2), activation = 'relu'))\n",
        "model.add(MaxPooling2D(pool_size=(2,2)))\n",
        "model.add(Dropout(0.2))\n",
        "\n",
        "\n",
        "#model.add(Dense(6144,activation = 'relu'))\n",
        "#model.add(Dropout(0.2))\n",
        "model.add(Dense(2048,activation = 'relu'))\n",
        "model.add(Dropout(0.2))\n",
        "model.add(Dense(1024,activation = 'relu'))\n",
        "model.add(Dropout(0.2))\n",
        "model.add(Dense(256,activation = 'relu'))\n",
        "model.add(Dropout(0.2))\n",
        "model.add(Dense(128,activation = 'relu'))\n",
        "model.add(Dropout(0.2))\n",
        "model.add(Dense(64,activation = 'relu'))\n",
        "model.add(Dropout(0.2))\n",
        "\n",
        "model.add(Conv2D(512, (2,2), activation = 'softplus'))\n",
        "model.add(MaxPooling2D(pool_size=(2,2)))\n",
        "model.add(Dense(1024,activation = 'relu'))\n",
        "model.add(Dropout(0.2))\n",
        "model.add(Conv2D(256, (2,2), activation = 'softplus'))\n",
        "model.add(MaxPooling2D(pool_size=(2,2)))\n",
        "model.add(Dropout(0.2))\n",
        "\n",
        "model.add(Dense(1024,activation = 'relu'))\n",
        "model.add(Dropout(0.2))\n",
        "model.add(Dense(512,activation = 'softplus'))\n",
        "model.add(Dropout(0.2))\n",
        "model.add(Dense(256,activation = 'relu'))\n",
        "model.add(Dropout(0.2))\n",
        "model.add(Dense(128,activation = 'relu'))\n",
        "model.add(Dropout(0.2))\n",
        "model.add(Dense(64,activation = 'relu'))\n",
        "model.add(Dropout(0.2))\n",
        "\n",
        "model.add(Flatten())\n",
        "model.add(Dense(4,activation = 'relu'))\n",
        "\n",
        "\n",
        "model.compile(loss=keras.losses.mean_squared_error,optimizer=keras.optimizers.Adamax(),metrics=['accuracy'])\n",
        "print(model.summary())\n",
        "model.fit(x_train_array, y_train_array,batch_size=16,epochs=10,verbose=1)\n"
      ],
      "execution_count": 0,
      "outputs": [
        {
          "output_type": "stream",
          "text": [
            "_________________________________________________________________\n",
            "Layer (type)                 Output Shape              Param #   \n",
            "=================================================================\n",
            "conv2d_27 (Conv2D)           (None, 31, 31, 128)       640       \n",
            "_________________________________________________________________\n",
            "conv2d_28 (Conv2D)           (None, 30, 30, 256)       131328    \n",
            "_________________________________________________________________\n",
            "max_pooling2d_21 (MaxPooling (None, 15, 15, 256)       0         \n",
            "_________________________________________________________________\n",
            "conv2d_29 (Conv2D)           (None, 14, 14, 512)       524800    \n",
            "_________________________________________________________________\n",
            "max_pooling2d_22 (MaxPooling (None, 7, 7, 512)         0         \n",
            "_________________________________________________________________\n",
            "dropout_60 (Dropout)         (None, 7, 7, 512)         0         \n",
            "_________________________________________________________________\n",
            "dense_55 (Dense)             (None, 7, 7, 2048)        1050624   \n",
            "_________________________________________________________________\n",
            "dropout_61 (Dropout)         (None, 7, 7, 2048)        0         \n",
            "_________________________________________________________________\n",
            "dense_56 (Dense)             (None, 7, 7, 1024)        2098176   \n",
            "_________________________________________________________________\n",
            "dropout_62 (Dropout)         (None, 7, 7, 1024)        0         \n",
            "_________________________________________________________________\n",
            "dense_57 (Dense)             (None, 7, 7, 256)         262400    \n",
            "_________________________________________________________________\n",
            "dropout_63 (Dropout)         (None, 7, 7, 256)         0         \n",
            "_________________________________________________________________\n",
            "dense_58 (Dense)             (None, 7, 7, 128)         32896     \n",
            "_________________________________________________________________\n",
            "dropout_64 (Dropout)         (None, 7, 7, 128)         0         \n",
            "_________________________________________________________________\n",
            "dense_59 (Dense)             (None, 7, 7, 64)          8256      \n",
            "_________________________________________________________________\n",
            "dropout_65 (Dropout)         (None, 7, 7, 64)          0         \n",
            "_________________________________________________________________\n",
            "conv2d_30 (Conv2D)           (None, 6, 6, 512)         131584    \n",
            "_________________________________________________________________\n",
            "max_pooling2d_23 (MaxPooling (None, 3, 3, 512)         0         \n",
            "_________________________________________________________________\n",
            "dense_60 (Dense)             (None, 3, 3, 1024)        525312    \n",
            "_________________________________________________________________\n",
            "dropout_66 (Dropout)         (None, 3, 3, 1024)        0         \n",
            "_________________________________________________________________\n",
            "conv2d_31 (Conv2D)           (None, 2, 2, 256)         1048832   \n",
            "_________________________________________________________________\n",
            "max_pooling2d_24 (MaxPooling (None, 1, 1, 256)         0         \n",
            "_________________________________________________________________\n",
            "dropout_67 (Dropout)         (None, 1, 1, 256)         0         \n",
            "_________________________________________________________________\n",
            "dense_61 (Dense)             (None, 1, 1, 1024)        263168    \n",
            "_________________________________________________________________\n",
            "dropout_68 (Dropout)         (None, 1, 1, 1024)        0         \n",
            "_________________________________________________________________\n",
            "dense_62 (Dense)             (None, 1, 1, 512)         524800    \n",
            "_________________________________________________________________\n",
            "dropout_69 (Dropout)         (None, 1, 1, 512)         0         \n",
            "_________________________________________________________________\n",
            "dense_63 (Dense)             (None, 1, 1, 256)         131328    \n",
            "_________________________________________________________________\n",
            "dropout_70 (Dropout)         (None, 1, 1, 256)         0         \n",
            "_________________________________________________________________\n",
            "dense_64 (Dense)             (None, 1, 1, 128)         32896     \n",
            "_________________________________________________________________\n",
            "dropout_71 (Dropout)         (None, 1, 1, 128)         0         \n",
            "_________________________________________________________________\n",
            "dense_65 (Dense)             (None, 1, 1, 64)          8256      \n",
            "_________________________________________________________________\n",
            "dropout_72 (Dropout)         (None, 1, 1, 64)          0         \n",
            "_________________________________________________________________\n",
            "flatten_5 (Flatten)          (None, 64)                0         \n",
            "_________________________________________________________________\n",
            "dense_66 (Dense)             (None, 4)                 260       \n",
            "=================================================================\n",
            "Total params: 6,775,556\n",
            "Trainable params: 6,775,556\n",
            "Non-trainable params: 0\n",
            "_________________________________________________________________\n",
            "None\n",
            "WARNING:tensorflow:From /usr/local/lib/python3.6/dist-packages/tensorflow/python/ops/math_ops.py:3066: to_int32 (from tensorflow.python.ops.math_ops) is deprecated and will be removed in a future version.\n",
            "Instructions for updating:\n",
            "Use tf.cast instead.\n",
            "Epoch 1/10\n",
            "24000/24000 [==============================] - 88s 4ms/step - loss: 48015.7555 - acc: 0.9123\n",
            "Epoch 2/10\n",
            "24000/24000 [==============================] - 70s 3ms/step - loss: 11058.5707 - acc: 0.9299\n",
            "Epoch 3/10\n",
            "24000/24000 [==============================] - 71s 3ms/step - loss: 10431.8654 - acc: 0.9313\n",
            "Epoch 4/10\n",
            " 2000/24000 [=>............................] - ETA: 1:04 - loss: 10103.6706 - acc: 0.9220"
          ],
          "name": "stdout"
        },
        {
          "output_type": "error",
          "ename": "KeyboardInterrupt",
          "evalue": "ignored",
          "traceback": [
            "\u001b[0;31m---------------------------------------------------------------------------\u001b[0m",
            "\u001b[0;31mKeyboardInterrupt\u001b[0m                         Traceback (most recent call last)",
            "\u001b[0;32m<ipython-input-19-55bf0eb398aa>\u001b[0m in \u001b[0;36m<module>\u001b[0;34m()\u001b[0m\n\u001b[1;32m     49\u001b[0m \u001b[0mmodel\u001b[0m\u001b[0;34m.\u001b[0m\u001b[0mcompile\u001b[0m\u001b[0;34m(\u001b[0m\u001b[0mloss\u001b[0m\u001b[0;34m=\u001b[0m\u001b[0mkeras\u001b[0m\u001b[0;34m.\u001b[0m\u001b[0mlosses\u001b[0m\u001b[0;34m.\u001b[0m\u001b[0mmean_squared_error\u001b[0m\u001b[0;34m,\u001b[0m\u001b[0moptimizer\u001b[0m\u001b[0;34m=\u001b[0m\u001b[0mkeras\u001b[0m\u001b[0;34m.\u001b[0m\u001b[0moptimizers\u001b[0m\u001b[0;34m.\u001b[0m\u001b[0mAdamax\u001b[0m\u001b[0;34m(\u001b[0m\u001b[0;34m)\u001b[0m\u001b[0;34m,\u001b[0m\u001b[0mmetrics\u001b[0m\u001b[0;34m=\u001b[0m\u001b[0;34m[\u001b[0m\u001b[0;34m'accuracy'\u001b[0m\u001b[0;34m]\u001b[0m\u001b[0;34m)\u001b[0m\u001b[0;34m\u001b[0m\u001b[0;34m\u001b[0m\u001b[0m\n\u001b[1;32m     50\u001b[0m \u001b[0mprint\u001b[0m\u001b[0;34m(\u001b[0m\u001b[0mmodel\u001b[0m\u001b[0;34m.\u001b[0m\u001b[0msummary\u001b[0m\u001b[0;34m(\u001b[0m\u001b[0;34m)\u001b[0m\u001b[0;34m)\u001b[0m\u001b[0;34m\u001b[0m\u001b[0;34m\u001b[0m\u001b[0m\n\u001b[0;32m---> 51\u001b[0;31m \u001b[0mmodel\u001b[0m\u001b[0;34m.\u001b[0m\u001b[0mfit\u001b[0m\u001b[0;34m(\u001b[0m\u001b[0mx_train_array\u001b[0m\u001b[0;34m,\u001b[0m \u001b[0my_train_array\u001b[0m\u001b[0;34m,\u001b[0m\u001b[0mbatch_size\u001b[0m\u001b[0;34m=\u001b[0m\u001b[0;36m16\u001b[0m\u001b[0;34m,\u001b[0m\u001b[0mepochs\u001b[0m\u001b[0;34m=\u001b[0m\u001b[0;36m10\u001b[0m\u001b[0;34m,\u001b[0m\u001b[0mverbose\u001b[0m\u001b[0;34m=\u001b[0m\u001b[0;36m1\u001b[0m\u001b[0;34m)\u001b[0m\u001b[0;34m\u001b[0m\u001b[0;34m\u001b[0m\u001b[0m\n\u001b[0m",
            "\u001b[0;32m/usr/local/lib/python3.6/dist-packages/keras/engine/training.py\u001b[0m in \u001b[0;36mfit\u001b[0;34m(self, x, y, batch_size, epochs, verbose, callbacks, validation_split, validation_data, shuffle, class_weight, sample_weight, initial_epoch, steps_per_epoch, validation_steps, **kwargs)\u001b[0m\n\u001b[1;32m   1037\u001b[0m                                         \u001b[0minitial_epoch\u001b[0m\u001b[0;34m=\u001b[0m\u001b[0minitial_epoch\u001b[0m\u001b[0;34m,\u001b[0m\u001b[0;34m\u001b[0m\u001b[0;34m\u001b[0m\u001b[0m\n\u001b[1;32m   1038\u001b[0m                                         \u001b[0msteps_per_epoch\u001b[0m\u001b[0;34m=\u001b[0m\u001b[0msteps_per_epoch\u001b[0m\u001b[0;34m,\u001b[0m\u001b[0;34m\u001b[0m\u001b[0;34m\u001b[0m\u001b[0m\n\u001b[0;32m-> 1039\u001b[0;31m                                         validation_steps=validation_steps)\n\u001b[0m\u001b[1;32m   1040\u001b[0m \u001b[0;34m\u001b[0m\u001b[0m\n\u001b[1;32m   1041\u001b[0m     def evaluate(self, x=None, y=None,\n",
            "\u001b[0;32m/usr/local/lib/python3.6/dist-packages/keras/engine/training_arrays.py\u001b[0m in \u001b[0;36mfit_loop\u001b[0;34m(model, f, ins, out_labels, batch_size, epochs, verbose, callbacks, val_f, val_ins, shuffle, callback_metrics, initial_epoch, steps_per_epoch, validation_steps)\u001b[0m\n\u001b[1;32m    197\u001b[0m                     \u001b[0mins_batch\u001b[0m\u001b[0;34m[\u001b[0m\u001b[0mi\u001b[0m\u001b[0;34m]\u001b[0m \u001b[0;34m=\u001b[0m \u001b[0mins_batch\u001b[0m\u001b[0;34m[\u001b[0m\u001b[0mi\u001b[0m\u001b[0;34m]\u001b[0m\u001b[0;34m.\u001b[0m\u001b[0mtoarray\u001b[0m\u001b[0;34m(\u001b[0m\u001b[0;34m)\u001b[0m\u001b[0;34m\u001b[0m\u001b[0;34m\u001b[0m\u001b[0m\n\u001b[1;32m    198\u001b[0m \u001b[0;34m\u001b[0m\u001b[0m\n\u001b[0;32m--> 199\u001b[0;31m                 \u001b[0mouts\u001b[0m \u001b[0;34m=\u001b[0m \u001b[0mf\u001b[0m\u001b[0;34m(\u001b[0m\u001b[0mins_batch\u001b[0m\u001b[0;34m)\u001b[0m\u001b[0;34m\u001b[0m\u001b[0;34m\u001b[0m\u001b[0m\n\u001b[0m\u001b[1;32m    200\u001b[0m                 \u001b[0mouts\u001b[0m \u001b[0;34m=\u001b[0m \u001b[0mto_list\u001b[0m\u001b[0;34m(\u001b[0m\u001b[0mouts\u001b[0m\u001b[0;34m)\u001b[0m\u001b[0;34m\u001b[0m\u001b[0;34m\u001b[0m\u001b[0m\n\u001b[1;32m    201\u001b[0m                 \u001b[0;32mfor\u001b[0m \u001b[0ml\u001b[0m\u001b[0;34m,\u001b[0m \u001b[0mo\u001b[0m \u001b[0;32min\u001b[0m \u001b[0mzip\u001b[0m\u001b[0;34m(\u001b[0m\u001b[0mout_labels\u001b[0m\u001b[0;34m,\u001b[0m \u001b[0mouts\u001b[0m\u001b[0;34m)\u001b[0m\u001b[0;34m:\u001b[0m\u001b[0;34m\u001b[0m\u001b[0;34m\u001b[0m\u001b[0m\n",
            "\u001b[0;32m/usr/local/lib/python3.6/dist-packages/keras/backend/tensorflow_backend.py\u001b[0m in \u001b[0;36m__call__\u001b[0;34m(self, inputs)\u001b[0m\n\u001b[1;32m   2713\u001b[0m                 \u001b[0;32mreturn\u001b[0m \u001b[0mself\u001b[0m\u001b[0;34m.\u001b[0m\u001b[0m_legacy_call\u001b[0m\u001b[0;34m(\u001b[0m\u001b[0minputs\u001b[0m\u001b[0;34m)\u001b[0m\u001b[0;34m\u001b[0m\u001b[0;34m\u001b[0m\u001b[0m\n\u001b[1;32m   2714\u001b[0m \u001b[0;34m\u001b[0m\u001b[0m\n\u001b[0;32m-> 2715\u001b[0;31m             \u001b[0;32mreturn\u001b[0m \u001b[0mself\u001b[0m\u001b[0;34m.\u001b[0m\u001b[0m_call\u001b[0m\u001b[0;34m(\u001b[0m\u001b[0minputs\u001b[0m\u001b[0;34m)\u001b[0m\u001b[0;34m\u001b[0m\u001b[0;34m\u001b[0m\u001b[0m\n\u001b[0m\u001b[1;32m   2716\u001b[0m         \u001b[0;32melse\u001b[0m\u001b[0;34m:\u001b[0m\u001b[0;34m\u001b[0m\u001b[0;34m\u001b[0m\u001b[0m\n\u001b[1;32m   2717\u001b[0m             \u001b[0;32mif\u001b[0m \u001b[0mpy_any\u001b[0m\u001b[0;34m(\u001b[0m\u001b[0mis_tensor\u001b[0m\u001b[0;34m(\u001b[0m\u001b[0mx\u001b[0m\u001b[0;34m)\u001b[0m \u001b[0;32mfor\u001b[0m \u001b[0mx\u001b[0m \u001b[0;32min\u001b[0m \u001b[0minputs\u001b[0m\u001b[0;34m)\u001b[0m\u001b[0;34m:\u001b[0m\u001b[0;34m\u001b[0m\u001b[0;34m\u001b[0m\u001b[0m\n",
            "\u001b[0;32m/usr/local/lib/python3.6/dist-packages/keras/backend/tensorflow_backend.py\u001b[0m in \u001b[0;36m_call\u001b[0;34m(self, inputs)\u001b[0m\n\u001b[1;32m   2673\u001b[0m             \u001b[0mfetched\u001b[0m \u001b[0;34m=\u001b[0m \u001b[0mself\u001b[0m\u001b[0;34m.\u001b[0m\u001b[0m_callable_fn\u001b[0m\u001b[0;34m(\u001b[0m\u001b[0;34m*\u001b[0m\u001b[0marray_vals\u001b[0m\u001b[0;34m,\u001b[0m \u001b[0mrun_metadata\u001b[0m\u001b[0;34m=\u001b[0m\u001b[0mself\u001b[0m\u001b[0;34m.\u001b[0m\u001b[0mrun_metadata\u001b[0m\u001b[0;34m)\u001b[0m\u001b[0;34m\u001b[0m\u001b[0;34m\u001b[0m\u001b[0m\n\u001b[1;32m   2674\u001b[0m         \u001b[0;32melse\u001b[0m\u001b[0;34m:\u001b[0m\u001b[0;34m\u001b[0m\u001b[0;34m\u001b[0m\u001b[0m\n\u001b[0;32m-> 2675\u001b[0;31m             \u001b[0mfetched\u001b[0m \u001b[0;34m=\u001b[0m \u001b[0mself\u001b[0m\u001b[0;34m.\u001b[0m\u001b[0m_callable_fn\u001b[0m\u001b[0;34m(\u001b[0m\u001b[0;34m*\u001b[0m\u001b[0marray_vals\u001b[0m\u001b[0;34m)\u001b[0m\u001b[0;34m\u001b[0m\u001b[0;34m\u001b[0m\u001b[0m\n\u001b[0m\u001b[1;32m   2676\u001b[0m         \u001b[0;32mreturn\u001b[0m \u001b[0mfetched\u001b[0m\u001b[0;34m[\u001b[0m\u001b[0;34m:\u001b[0m\u001b[0mlen\u001b[0m\u001b[0;34m(\u001b[0m\u001b[0mself\u001b[0m\u001b[0;34m.\u001b[0m\u001b[0moutputs\u001b[0m\u001b[0;34m)\u001b[0m\u001b[0;34m]\u001b[0m\u001b[0;34m\u001b[0m\u001b[0;34m\u001b[0m\u001b[0m\n\u001b[1;32m   2677\u001b[0m \u001b[0;34m\u001b[0m\u001b[0m\n",
            "\u001b[0;32m/usr/local/lib/python3.6/dist-packages/tensorflow/python/client/session.py\u001b[0m in \u001b[0;36m__call__\u001b[0;34m(self, *args, **kwargs)\u001b[0m\n\u001b[1;32m   1437\u001b[0m           ret = tf_session.TF_SessionRunCallable(\n\u001b[1;32m   1438\u001b[0m               \u001b[0mself\u001b[0m\u001b[0;34m.\u001b[0m\u001b[0m_session\u001b[0m\u001b[0;34m.\u001b[0m\u001b[0m_session\u001b[0m\u001b[0;34m,\u001b[0m \u001b[0mself\u001b[0m\u001b[0;34m.\u001b[0m\u001b[0m_handle\u001b[0m\u001b[0;34m,\u001b[0m \u001b[0margs\u001b[0m\u001b[0;34m,\u001b[0m \u001b[0mstatus\u001b[0m\u001b[0;34m,\u001b[0m\u001b[0;34m\u001b[0m\u001b[0;34m\u001b[0m\u001b[0m\n\u001b[0;32m-> 1439\u001b[0;31m               run_metadata_ptr)\n\u001b[0m\u001b[1;32m   1440\u001b[0m         \u001b[0;32mif\u001b[0m \u001b[0mrun_metadata\u001b[0m\u001b[0;34m:\u001b[0m\u001b[0;34m\u001b[0m\u001b[0;34m\u001b[0m\u001b[0m\n\u001b[1;32m   1441\u001b[0m           \u001b[0mproto_data\u001b[0m \u001b[0;34m=\u001b[0m \u001b[0mtf_session\u001b[0m\u001b[0;34m.\u001b[0m\u001b[0mTF_GetBuffer\u001b[0m\u001b[0;34m(\u001b[0m\u001b[0mrun_metadata_ptr\u001b[0m\u001b[0;34m)\u001b[0m\u001b[0;34m\u001b[0m\u001b[0;34m\u001b[0m\u001b[0m\n",
            "\u001b[0;31mKeyboardInterrupt\u001b[0m: "
          ]
        }
      ]
    },
    {
      "metadata": {
        "id": "9Bn4gWwJdPY2",
        "colab_type": "code",
        "outputId": "87fa8d25-c853-4868-f382-81726fc8a801",
        "colab": {
          "base_uri": "https://localhost:8080/",
          "height": 2036
        }
      },
      "cell_type": "code",
      "source": [
        "#Model training\n",
        "model = Sequential()\n",
        "\n",
        "model.add(Conv2D(128, kernel_size=(3,3), activation = 'relu', input_shape = (48,64,1)))\n",
        "model.add(Conv2D(256, (3,3), activation = 'relu'))\n",
        "model.add(MaxPooling2D(pool_size=(2,2)))\n",
        "model.add(Conv2D(512, (3,3), activation = 'relu'))\n",
        "model.add(MaxPooling2D(pool_size=(2,2)))\n",
        "model.add(Conv2D(256, (3,3), activation = 'relu'))\n",
        "model.add(MaxPooling2D(pool_size=(2,2)))\n",
        "model.add(Dropout(0.2))\n",
        "model.add(Flatten())\n",
        "model.add(Dense(2048,activation = 'relu'))\n",
        "model.add(Dropout(0.2))\n",
        "model.add(Dense(1024,activation = 'relu'))\n",
        "model.add(Dropout(0.2))\n",
        "model.add(Dense(512,activation = 'relu'))\n",
        "model.add(Dropout(0.2))\n",
        "model.add(Dense(256,activation = 'relu'))\n",
        "model.add(Dropout(0.2))\n",
        "model.add(Dense(4,activation = 'relu'))\n",
        "\n",
        "\n",
        "model.compile(loss=keras.losses.mean_squared_error,optimizer=keras.optimizers.Adamax(),metrics=['accuracy'])\n",
        "print(model.summary())\n",
        "model.fit(x_train_array[0:24000], y_train_array[0:24000],batch_size=16,epochs=50,verbose=1)"
      ],
      "execution_count": 0,
      "outputs": [
        {
          "output_type": "stream",
          "text": [
            "WARNING:tensorflow:From /usr/local/lib/python3.6/dist-packages/tensorflow/python/framework/op_def_library.py:263: colocate_with (from tensorflow.python.framework.ops) is deprecated and will be removed in a future version.\n",
            "Instructions for updating:\n",
            "Colocations handled automatically by placer.\n",
            "WARNING:tensorflow:From /usr/local/lib/python3.6/dist-packages/keras/backend/tensorflow_backend.py:3445: calling dropout (from tensorflow.python.ops.nn_ops) with keep_prob is deprecated and will be removed in a future version.\n",
            "Instructions for updating:\n",
            "Please use `rate` instead of `keep_prob`. Rate should be set to `rate = 1 - keep_prob`.\n",
            "_________________________________________________________________\n",
            "Layer (type)                 Output Shape              Param #   \n",
            "=================================================================\n",
            "conv2d_1 (Conv2D)            (None, 46, 62, 128)       1280      \n",
            "_________________________________________________________________\n",
            "conv2d_2 (Conv2D)            (None, 44, 60, 256)       295168    \n",
            "_________________________________________________________________\n",
            "max_pooling2d_1 (MaxPooling2 (None, 22, 30, 256)       0         \n",
            "_________________________________________________________________\n",
            "conv2d_3 (Conv2D)            (None, 20, 28, 512)       1180160   \n",
            "_________________________________________________________________\n",
            "max_pooling2d_2 (MaxPooling2 (None, 10, 14, 512)       0         \n",
            "_________________________________________________________________\n",
            "conv2d_4 (Conv2D)            (None, 8, 12, 256)        1179904   \n",
            "_________________________________________________________________\n",
            "max_pooling2d_3 (MaxPooling2 (None, 4, 6, 256)         0         \n",
            "_________________________________________________________________\n",
            "dropout_1 (Dropout)          (None, 4, 6, 256)         0         \n",
            "_________________________________________________________________\n",
            "flatten_1 (Flatten)          (None, 6144)              0         \n",
            "_________________________________________________________________\n",
            "dense_1 (Dense)              (None, 2048)              12584960  \n",
            "_________________________________________________________________\n",
            "dropout_2 (Dropout)          (None, 2048)              0         \n",
            "_________________________________________________________________\n",
            "dense_2 (Dense)              (None, 1024)              2098176   \n",
            "_________________________________________________________________\n",
            "dropout_3 (Dropout)          (None, 1024)              0         \n",
            "_________________________________________________________________\n",
            "dense_3 (Dense)              (None, 512)               524800    \n",
            "_________________________________________________________________\n",
            "dropout_4 (Dropout)          (None, 512)               0         \n",
            "_________________________________________________________________\n",
            "dense_4 (Dense)              (None, 256)               131328    \n",
            "_________________________________________________________________\n",
            "dropout_5 (Dropout)          (None, 256)               0         \n",
            "_________________________________________________________________\n",
            "dense_5 (Dense)              (None, 4)                 1028      \n",
            "=================================================================\n",
            "Total params: 17,996,804\n",
            "Trainable params: 17,996,804\n",
            "Non-trainable params: 0\n",
            "_________________________________________________________________\n",
            "None\n",
            "WARNING:tensorflow:From /usr/local/lib/python3.6/dist-packages/tensorflow/python/ops/math_ops.py:3066: to_int32 (from tensorflow.python.ops.math_ops) is deprecated and will be removed in a future version.\n",
            "Instructions for updating:\n",
            "Use tf.cast instead.\n",
            "Epoch 1/50\n",
            "24000/24000 [==============================] - 111s 5ms/step - loss: 45644.3475 - acc: 0.9267\n",
            "Epoch 2/50\n",
            "24000/24000 [==============================] - 105s 4ms/step - loss: 6426.2106 - acc: 0.9291\n",
            "Epoch 3/50\n",
            "24000/24000 [==============================] - 105s 4ms/step - loss: 4173.8920 - acc: 0.9340\n",
            "Epoch 4/50\n",
            "24000/24000 [==============================] - 105s 4ms/step - loss: 3563.3566 - acc: 0.9396\n",
            "Epoch 5/50\n",
            "24000/24000 [==============================] - 105s 4ms/step - loss: 3379.3273 - acc: 0.9399\n",
            "Epoch 6/50\n",
            "24000/24000 [==============================] - 105s 4ms/step - loss: 3129.9252 - acc: 0.9439\n",
            "Epoch 7/50\n",
            "24000/24000 [==============================] - 105s 4ms/step - loss: 3008.5925 - acc: 0.9460\n",
            "Epoch 8/50\n",
            "24000/24000 [==============================] - 105s 4ms/step - loss: 2818.1937 - acc: 0.9478\n",
            "Epoch 9/50\n",
            "24000/24000 [==============================] - 105s 4ms/step - loss: 2727.7353 - acc: 0.9490\n",
            "Epoch 10/50\n",
            "24000/24000 [==============================] - 105s 4ms/step - loss: 2603.8641 - acc: 0.9493\n",
            "Epoch 11/50\n",
            "24000/24000 [==============================] - 105s 4ms/step - loss: 2476.4565 - acc: 0.9521\n",
            "Epoch 12/50\n",
            "24000/24000 [==============================] - 105s 4ms/step - loss: 2314.4352 - acc: 0.9533\n",
            "Epoch 13/50\n",
            "24000/24000 [==============================] - 105s 4ms/step - loss: 2118.2268 - acc: 0.9535\n",
            "Epoch 14/50\n",
            "24000/24000 [==============================] - 105s 4ms/step - loss: 2001.7692 - acc: 0.9534\n",
            "Epoch 15/50\n",
            "24000/24000 [==============================] - 105s 4ms/step - loss: 1871.4033 - acc: 0.9553\n",
            "Epoch 16/50\n",
            "24000/24000 [==============================] - 105s 4ms/step - loss: 1781.1346 - acc: 0.9561\n",
            "Epoch 17/50\n",
            "24000/24000 [==============================] - 105s 4ms/step - loss: 1685.9922 - acc: 0.9553\n",
            "Epoch 18/50\n",
            "24000/24000 [==============================] - 105s 4ms/step - loss: 1594.2562 - acc: 0.9583\n",
            "Epoch 19/50\n",
            "24000/24000 [==============================] - 105s 4ms/step - loss: 1531.0383 - acc: 0.9581\n",
            "Epoch 20/50\n",
            "24000/24000 [==============================] - 105s 4ms/step - loss: 1466.1658 - acc: 0.9599\n",
            "Epoch 21/50\n",
            "24000/24000 [==============================] - 106s 4ms/step - loss: 1393.7039 - acc: 0.9604\n",
            "Epoch 22/50\n",
            "24000/24000 [==============================] - 106s 4ms/step - loss: 1330.7728 - acc: 0.9619\n",
            "Epoch 23/50\n",
            "24000/24000 [==============================] - 106s 4ms/step - loss: 1261.6237 - acc: 0.9617\n",
            "Epoch 24/50\n",
            "24000/24000 [==============================] - 105s 4ms/step - loss: 1257.0285 - acc: 0.9621\n",
            "Epoch 25/50\n",
            "24000/24000 [==============================] - 105s 4ms/step - loss: 1190.3563 - acc: 0.9641\n",
            "Epoch 26/50\n",
            "24000/24000 [==============================] - 106s 4ms/step - loss: 1145.9433 - acc: 0.9622\n",
            "Epoch 27/50\n",
            "24000/24000 [==============================] - 105s 4ms/step - loss: 1124.0311 - acc: 0.9642\n",
            "Epoch 28/50\n",
            "24000/24000 [==============================] - 105s 4ms/step - loss: 1101.4628 - acc: 0.9648\n",
            "Epoch 29/50\n",
            "24000/24000 [==============================] - 105s 4ms/step - loss: 1077.8753 - acc: 0.9649\n",
            "Epoch 30/50\n",
            "24000/24000 [==============================] - 105s 4ms/step - loss: 1047.5804 - acc: 0.9660\n",
            "Epoch 31/50\n",
            "24000/24000 [==============================] - 105s 4ms/step - loss: 1054.5042 - acc: 0.9648\n",
            "Epoch 32/50\n",
            "24000/24000 [==============================] - 107s 4ms/step - loss: 1024.8401 - acc: 0.9664\n",
            "Epoch 33/50\n",
            " 2832/24000 [==>...........................] - ETA: 1:32 - loss: 824.9503 - acc: 0.9725"
          ],
          "name": "stdout"
        }
      ]
    },
    {
      "metadata": {
        "id": "Zs_dW8E4loOz",
        "colab_type": "code",
        "outputId": "43f60827-6ed8-4ad5-b57f-a1a1f660ffb8",
        "colab": {
          "base_uri": "https://localhost:8080/",
          "height": 136
        }
      },
      "cell_type": "code",
      "source": [
        "model.fit(x_retrain_array[0:28000], y_retrain_array[0:28000],batch_size=16,epochs=3,verbose=1)"
      ],
      "execution_count": 0,
      "outputs": [
        {
          "output_type": "stream",
          "text": [
            "Epoch 1/3\n",
            "24000/24000 [==============================] - 105s 4ms/step - loss: 748.2449 - acc: 0.9721\n",
            "Epoch 2/3\n",
            "24000/24000 [==============================] - 106s 4ms/step - loss: 784.2885 - acc: 0.9727\n",
            "Epoch 3/3\n",
            "24000/24000 [==============================] - 106s 4ms/step - loss: 696.5688 - acc: 0.9710\n"
          ],
          "name": "stdout"
        },
        {
          "output_type": "execute_result",
          "data": {
            "text/plain": [
              "<keras.callbacks.History at 0x7fef77263748>"
            ]
          },
          "metadata": {
            "tags": []
          },
          "execution_count": 26
        }
      ]
    },
    {
      "metadata": {
        "id": "PXHBcDcQPa1N",
        "colab_type": "code",
        "outputId": "8e359773-dc57-47fb-9a53-a93403906eab",
        "colab": {
          "base_uri": "https://localhost:8080/",
          "height": 136
        }
      },
      "cell_type": "code",
      "source": [
        "predicted_array = model.predict(x_train_array)\n",
        "print(predicted_array)\n"
      ],
      "execution_count": 0,
      "outputs": [
        {
          "output_type": "stream",
          "text": [
            "[[ 79.51148  455.15903   61.34622  421.49344 ]\n",
            " [ 68.01598  558.60364  144.16928  342.9456  ]\n",
            " [ 21.418203 561.9504   113.525314 363.55984 ]\n",
            " ...\n",
            " [115.62505  572.0211    44.31834  439.77798 ]\n",
            " [ 45.272053 558.9855   106.04815  410.2662  ]\n",
            " [ 69.737816 550.2841   150.11803  333.56555 ]]\n"
          ],
          "name": "stdout"
        }
      ]
    },
    {
      "metadata": {
        "id": "BCqfunQNonDF",
        "colab_type": "code",
        "outputId": "0dfe7a4e-2e9c-49da-c6d2-97d1735c4012",
        "colab": {
          "base_uri": "https://localhost:8080/",
          "height": 136
        }
      },
      "cell_type": "code",
      "source": [
        "print(np.round(predicted_array))"
      ],
      "execution_count": 0,
      "outputs": [
        {
          "output_type": "stream",
          "text": [
            "[[ 82. 440.  91. 409.]\n",
            " [ 61. 568. 137. 354.]\n",
            " [ 25. 588. 115. 381.]\n",
            " ...\n",
            " [109. 572.  35. 438.]\n",
            " [ 48. 594.  90. 421.]\n",
            " [ 71. 540. 153. 333.]]\n"
          ],
          "name": "stdout"
        }
      ]
    },
    {
      "metadata": {
        "id": "4rSXxqL2i-8b",
        "colab_type": "code",
        "outputId": "a8acbe12-bcb8-42f5-bed8-cfd45437b555",
        "colab": {
          "base_uri": "https://localhost:8080/",
          "height": 34
        }
      },
      "cell_type": "code",
      "source": [
        "iou = []\n",
        "for i in range(0,24000):\n",
        "    #print(predicted_array[i], y_train_array[i])\n",
        "    iou.append(abs(bb_intersection_over_union(np.round(predicted_array)[i], y_train_array[i])))\n",
        "    #print(bb_intersection_over_union(predicted_array[i], y_train_array[i])) \n",
        "iou = np.array(iou)\n",
        "print(sum(iou)/len(iou))"
      ],
      "execution_count": 0,
      "outputs": [
        {
          "output_type": "stream",
          "text": [
            "0.8940208691041107\n"
          ],
          "name": "stdout"
        }
      ]
    },
    {
      "metadata": {
        "id": "omskOpBWjC-X",
        "colab_type": "code",
        "colab": {}
      },
      "cell_type": "code",
      "source": [
        "\n",
        "def bb_intersection_over_union(boxA, boxB):\n",
        "\t# determine the (x, y)-coordinates of the intersection rectangle\n",
        "\txA = max(boxA[0], boxB[0])\n",
        "\txB = min(boxA[1], boxB[1])\n",
        "\tyA = max(boxA[2], boxB[2])\n",
        "\tyB = min(boxA[3], boxB[3])\n",
        "    \n",
        "\t# compute the area of intersection rectangle\n",
        "\tinterArea = max(0,xB - xA + 1) * max(0, yB - yA + 1)\n",
        "    \n",
        "\t# compute the area of both the prediction and ground-truth\n",
        "\t# rectangles\n",
        "\tboxAArea = (boxA[1] - boxA[0] + 1) * (boxA[3] - boxA[2] + 1)\n",
        "\tboxBArea = (boxB[1] - boxB[0] + 1) * (boxB[3] - boxB[2] + 1)\n",
        "\t#print(boxAArea + boxBArea,interArea)\n",
        "    \n",
        "\t# compute the intersection over union by taking the intersection\n",
        "\t# area and dividing it by the sum of prediction + ground-truth\n",
        "\t# areas - the interesection area\n",
        "\tiou = interArea / float(boxAArea + boxBArea - interArea)\n",
        " \n",
        "\t# return the intersection over union value\n",
        "\treturn iou"
      ],
      "execution_count": 0,
      "outputs": []
    },
    {
      "metadata": {
        "id": "eI-zcfxpjG66",
        "colab_type": "code",
        "colab": {}
      },
      "cell_type": "code",
      "source": [
        "import csv\n",
        "with open('gdrive/My Drive/Colab Notebooks/testing.csv','w') as myoutputfile:\n",
        "    myoutputfile.write('image_name,x1,x2,y1,y2\\n')\n",
        "    i = 0\n",
        "    for row in predicted_array:\n",
        "        myoutputfile.write(str(x_test[i,0])+','+str(abs(int(row[0])))+','+str(abs(int(row[1])))+','+str(abs(int(row[2])))+','+str(abs(int(row[3])))+'\\n')\n",
        "        i=i+1\n",
        "    myoutputfile.close()\n",
        "    "
      ],
      "execution_count": 0,
      "outputs": []
    },
    {
      "metadata": {
        "id": "ENGig1S03INW",
        "colab_type": "code",
        "colab": {}
      },
      "cell_type": "code",
      "source": [
        "'''Test dataset''' \n",
        "test_dataset = pd.read_csv('gdrive/My Drive/Colab Notebooks/test_set.csv',index_col=None)\n",
        "x_test = test_dataset[['image_name']]\n",
        "x_test = np.asarray(x_test)\n",
        "y_test = test_dataset[['x1','x2','y1','y2']]\n",
        "y_test = np.asarray(y_test)"
      ],
      "execution_count": 0,
      "outputs": []
    },
    {
      "metadata": {
        "id": "GDtcupbn3WNm",
        "colab_type": "code",
        "colab": {}
      },
      "cell_type": "code",
      "source": [
        "x_test_array = np.load('gdrive/My Drive/Colab Notebooks/Numpy/x_train_array_test.npy')\n",
        "#np.save('D:\\\\Project\\\\flipkart challenge\\\\images\\\\resize\\\\'+str('x_test_array'),x_test_array)\n",
        "x_test_array = x_test_array.reshape(x_test_array.shape[0],48,64,1)"
      ],
      "execution_count": 0,
      "outputs": []
    },
    {
      "metadata": {
        "id": "ug-J7yr_5lM6",
        "colab_type": "code",
        "outputId": "d0f5cc83-498b-4962-c431-36cedebdeb94",
        "colab": {
          "base_uri": "https://localhost:8080/",
          "height": 136
        }
      },
      "cell_type": "code",
      "source": [
        "predicted_array = model.predict(x_test_array)\n",
        "print(predicted_array)"
      ],
      "execution_count": 0,
      "outputs": [
        {
          "output_type": "stream",
          "text": [
            "[[ 79.24729   560.09717    73.18056   431.609    ]\n",
            " [225.85008   427.88873   104.92806   427.72162  ]\n",
            " [204.99481   430.52124    91.24704   383.31384  ]\n",
            " ...\n",
            " [107.10057   526.9608    125.17465   382.49304  ]\n",
            " [ 12.1064825 612.55896    10.79326   480.1838   ]\n",
            " [  0.        624.95905   110.44013   354.64066  ]]\n"
          ],
          "name": "stdout"
        }
      ]
    },
    {
      "metadata": {
        "id": "NI7quXegtUrU",
        "colab_type": "code",
        "colab": {}
      },
      "cell_type": "code",
      "source": [
        ""
      ],
      "execution_count": 0,
      "outputs": []
    }
  ]
}